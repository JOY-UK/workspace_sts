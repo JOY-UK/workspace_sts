{
 "cells": [
  {
   "cell_type": "markdown",
   "metadata": {},
   "source": [
    "### 자주 사용하는 주피터노트북 단축키\n",
    "+ Y - 해당 셀을 코드 작성 셀로 변경\n",
    "+ m - 해당 셀을 마크다운 셀로 변경\n",
    "+ ctrl + Enter - 선택한 셀 실행\n",
    "+ X - 셀을삭제\n",
    "+ A - 셀 \"위에\" 셀 추가\n",
    "+ B - 셀 \"아래\" 셀 추가\n",
    "+ V - 동일 셀 복사\n"
   ]
  },
  {
   "cell_type": "markdown",
   "metadata": {},
   "source": [
    "#### 파이썬의 출력문\n",
    "+ 파이썬은 명령어 종료 후 세미콜론 붙이지 않음"
   ]
  },
  {
   "cell_type": "code",
   "execution_count": 34,
   "metadata": {},
   "outputs": [
    {
     "name": "stdout",
     "output_type": "stream",
     "text": [
      "10\n",
      "python\n",
      "30\n"
     ]
    }
   ],
   "source": [
    "# 숫자출력\n",
    "print(10)\n",
    "# 문자출력 : 출력하고자 하는 문자를 홀따옴표 혹은 쌍따옴표로 감싼다.\n",
    "print('python')\n",
    "# 출력문 안의 내용이 연산가능하다면 연산 결과를 출력\n",
    "print(10 + 20)\n",
    "\n",
    "# 자바와 다르게 숫자와 문자끼리의 합은 연산되지 않고 오류발생\n",
    "# print(10 + 'python')"
   ]
  },
  {
   "cell_type": "markdown",
   "metadata": {},
   "source": [
    "### 파이썬의 연산자\n"
   ]
  },
  {
   "cell_type": "code",
   "execution_count": 42,
   "metadata": {},
   "outputs": [
    {
     "name": "stdout",
     "output_type": "stream",
     "text": [
      "3.3333333333333335\n",
      "3\n",
      "1\n",
      "8\n"
     ]
    }
   ],
   "source": [
    "# 나눗셈 연산 결과는 소수점 자리까지 결과가 출력\n",
    "print(10 / 3)\n",
    "\n",
    "# 몫만 계산하는 연산자\n",
    "print(10 // 3)\n",
    "\n",
    "# 나머지를 구하는 연산자(자바와 동일)\n",
    "print(10 % 3)\n",
    "\n",
    "# 거듭제곱 연산자\n",
    "print(2 ** 3)\n",
    "\n",
    "# >, <, >=, <= != 는 자바와 동일\n"
   ]
  },
  {
   "cell_type": "markdown",
   "metadata": {},
   "source": [
    "### 파이썬에서는 자료형(기본)\n",
    "+ 파이썬은 눈에 보이지 않는 자료형은 존재"
   ]
  },
  {
   "cell_type": "code",
   "execution_count": 47,
   "metadata": {},
   "outputs": [
    {
     "name": "stdout",
     "output_type": "stream",
     "text": [
      "<class 'int'>\n",
      "<class 'float'>\n",
      "<class 'str'>\n",
      "<class 'int'>\n",
      "<class 'float'>\n",
      "<class 'str'>\n",
      "<class 'bool'>\n",
      "<class 'bool'>\n"
     ]
    }
   ],
   "source": [
    "a = 10\n",
    "print(type(a))\n",
    "b = 10.5\n",
    "print(type(b))\n",
    "c = 'python'\n",
    "print(type(c))\n",
    "\n",
    "#파이썬에서의 기본 자료형 변환\n",
    "aa = int(\"10\")\n",
    "bb = float(\"10.5\")\n",
    "cc = str(100) \n",
    "\n",
    "print(type(aa))\n",
    "print(type(bb))\n",
    "print(type(cc))\n",
    "\n",
    "# 참 또는 거짓\n",
    "bool1 = True\n",
    "bool2 = False\n",
    "\n",
    "print(type(bool1))\n",
    "print(type(bool2))"
   ]
  },
  {
   "cell_type": "markdown",
   "metadata": {},
   "source": [
    "### 많이 사용하는 파이썬의 자료형\n",
    "+ 리스트(배열)\n",
    "+ dictionary(딕셔너리)\n",
    "+ set\n",
    "+ tuple(튜플)"
   ]
  },
  {
   "cell_type": "code",
   "execution_count": 53,
   "metadata": {},
   "outputs": [
    {
     "name": "stdout",
     "output_type": "stream",
     "text": [
      "[1, 2, 3, 4, 5]\n",
      "<class 'list'>\n",
      "1.1\n"
     ]
    }
   ],
   "source": [
    "# 리스트 생성\n",
    "list_1 = [1,2,3,4,5]\n",
    "print(list_1)\n",
    "print(type(list_1))\n",
    "\n",
    "list_2 = [1, 1.1, '배고파']\n",
    "print(list_2[1])"
   ]
  },
  {
   "cell_type": "code",
   "execution_count": 65,
   "metadata": {},
   "outputs": [
    {
     "name": "stdout",
     "output_type": "stream",
     "text": [
      "20\n",
      "20\n"
     ]
    }
   ],
   "source": [
    "# 딕셔너리\n",
    "dic_1 = {\n",
    "    'name' : '홍'\n",
    "    , 'age' : 20\n",
    "    , 'addr' : '울산'\n",
    "}\n",
    "print(dic_1['age'])\n",
    "print(dic_1.get('age'))\n"
   ]
  },
  {
   "cell_type": "code",
   "execution_count": 68,
   "metadata": {},
   "outputs": [
    {
     "name": "stdout",
     "output_type": "stream",
     "text": [
      "자바반\n",
      "캐드반\n"
     ]
    }
   ],
   "source": [
    "school = {\n",
    "    'schoolName' : '그린학교'\n",
    "    , 'classInfo' : [\n",
    "        {\n",
    "            'className' : '자바반'\n",
    "            , 'stuCnt' : 30\n",
    "        },\n",
    "        {\n",
    "            'className' : '캐드반'\n",
    "            , 'stuCnt' : 20\n",
    "        }\n",
    "    ]\n",
    "}\n",
    "\n",
    "print(school.get('classInfo')[0].get('className'))\n",
    "print(school['classInfo'][1]['className'])"
   ]
  },
  {
   "cell_type": "code",
   "execution_count": null,
   "metadata": {},
   "outputs": [],
   "source": []
  }
 ],
 "metadata": {
  "kernelspec": {
   "display_name": "Python 3",
   "language": "python",
   "name": "python3"
  },
  "language_info": {
   "codemirror_mode": {
    "name": "ipython",
    "version": 3
   },
   "file_extension": ".py",
   "mimetype": "text/x-python",
   "name": "python",
   "nbconvert_exporter": "python",
   "pygments_lexer": "ipython3",
   "version": "3.12.2"
  }
 },
 "nbformat": 4,
 "nbformat_minor": 2
}
