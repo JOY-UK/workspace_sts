{
 "cells": [
  {
   "cell_type": "markdown",
   "metadata": {},
   "source": [
    "### 리스트(List)\n",
    "+ 리스트 변수 생성 시 list라는 이름의 변수 생성은 금지"
   ]
  },
  {
   "cell_type": "code",
   "execution_count": 1,
   "metadata": {},
   "outputs": [],
   "source": [
    "# 빈 리스트를 생성\n",
    "list1 = []\n",
    "\n",
    "# 초기 값을 갖는 리스트 생성\n",
    "# 자바와 다르게 다른 자료형이 리스트의 요소로 들어올 수 있음.\n",
    "list2 = [1, 1.1, 'python']\n"
   ]
  },
  {
   "cell_type": "code",
   "execution_count": 17,
   "metadata": {},
   "outputs": [
    {
     "name": "stdout",
     "output_type": "stream",
     "text": [
      "[1, 1.1, 'python']\n",
      "1 1.1 python \n",
      "1.1\n"
     ]
    }
   ],
   "source": [
    "# 리스트의 값 읽기\n",
    "print(list2)\n",
    "\n",
    "# 반복문을 이용하여 리스트의 모든 데이터를 출력\n",
    "# for i, e in enumerate(list2) :\n",
    "#     print(f'i = {i}, e = {e}')\n",
    "\n",
    "for e in list2 :\n",
    "    print(e, end=' ')\n",
    "\n",
    "print()\n",
    "\n",
    "# 각각의 요소를 출력\n",
    "print(list2[1])\n"
   ]
  },
  {
   "cell_type": "code",
   "execution_count": 32,
   "metadata": {},
   "outputs": [
    {
     "name": "stdout",
     "output_type": "stream",
     "text": [
      "[0, 1, 2]\n",
      "[0, 1, 2, 3, 4]\n",
      "[6, 7, 8, 9, 10]\n",
      "[0, 1, 2, 3, 4, 5, 6, 7, 8, 9, 10]\n",
      "[8, 9, 10]\n"
     ]
    }
   ],
   "source": [
    "# 슬라이싱\n",
    "list3 = [0, 1, 2, 3, 4, 5, 6, 7, 8, 9, 10]\n",
    "# [a,b]\n",
    "# a : 시작 인덱스\n",
    "# b : 마지막 인덱스 전까지!\n",
    "print(list3[0:3])\n",
    "print(list3[:5])\n",
    "print(list3[6:])\n",
    "print(list3[:])\n",
    "print(list3[-3:])\n"
   ]
  },
  {
   "cell_type": "code",
   "execution_count": 79,
   "metadata": {},
   "outputs": [
    {
     "name": "stdout",
     "output_type": "stream",
     "text": [
      "ja\n",
      "jpg\n",
      "jpg\n",
      "jpg\n",
      "*****************첫번째방법******************\n",
      "안녕하세요\n",
      "또 만나요\n",
      "만나서 반가웠어요\n",
      "*****************두번째방법******************\n",
      "안녕하세요\n",
      "또 만나요\n",
      "만나서 반가웠어요\n",
      "15\n",
      "3\n",
      "2\n",
      "11\n"
     ]
    }
   ],
   "source": [
    "# 슬라이싱의 또 다른 활용\n",
    "test_str = 'java python c++'\n",
    "print(test_str[0:2])\n",
    "\n",
    "str_arr = [\n",
    "    '안녕하세요.jpg',\n",
    "    '또 만나요.jpg',\n",
    "    '만나서 반가웠어요.jpg'\n",
    "]\n",
    "\n",
    "for e in str_arr :\n",
    "    print(e[-3:])\n",
    "\n",
    "# .jpg 라는 문자열을 제외한 문자열만 추출하여 출력\n",
    "print('*****************첫번째방법******************')\n",
    "for e in str_arr :\n",
    "    print(e[:-4])\n",
    "\n",
    "print('*****************두번째방법******************')\n",
    "for e in str_arr :\n",
    "    print(e[:e.rindex('.')])\n",
    "\n",
    "\n",
    "\n",
    "#문자열의 길이\n",
    "print(len(test_str))\n",
    "print(len(str_arr))\n",
    "\n",
    "# 문자열에서 특정 문자열의 위치값 찾아내기\n",
    "str1 = 'python'\n",
    "print(str1.index('t'))\n",
    "\n",
    "str2 = 'jave.python.c++'\n",
    "print(str2.rindex('.'))"
   ]
  },
  {
   "cell_type": "code",
   "execution_count": 104,
   "metadata": {},
   "outputs": [
    {
     "name": "stdout",
     "output_type": "stream",
     "text": [
      "[1, 3, 5]\n",
      "[1, 1.5, 3, 5]\n",
      "[2, 3, 4, 5, 6, 7, 8, 9]\n",
      "[]\n"
     ]
    }
   ],
   "source": [
    "# 리스트에 데이터 추가하기\n",
    "list4 = []\n",
    "# append : 리스트의 가장 마지막에 데이터 추가 (한번에 하나의 데이터만 추가가능)\n",
    "list4.append(1)\n",
    "list4.append(3)\n",
    "list4.append(5)\n",
    "print(list4)\n",
    "\n",
    "# insert(위치, 값) : 리스트에서 원하는 위치에 데이터 추가\n",
    "list4.insert(1, 1.5)\n",
    "print(list4)\n",
    "\n",
    "# 리스트에서 데이터 삭제하기\n",
    "# del(리스트명[인덱스]) \n",
    "# del(list4[3])\n",
    "# print(list4)\n",
    "\n",
    "list5 = [1,2,3,4,5,6,7,8,9]\n",
    "# del(list5[:3])\n",
    "# print(list5)\n",
    "\n",
    "# 리스트명.remove(삭제할 값)\n",
    "list5.remove(1)\n",
    "print(list5)\n",
    "\n",
    "# 리스트의 모든 내용 지우기\n",
    "# 첫번째\n",
    "# list5.clear()\n",
    "# print(list5)\n",
    "# # 두번째\n",
    "# list5 = [1,2,3,4,5,6,7,8,9]\n",
    "del(list5[:])\n",
    "print(list5)"
   ]
  },
  {
   "cell_type": "markdown",
   "metadata": {},
   "source": [
    "### 딕셔너리(Dictionary)"
   ]
  },
  {
   "cell_type": "code",
   "execution_count": 105,
   "metadata": {},
   "outputs": [
    {
     "name": "stdout",
     "output_type": "stream",
     "text": [
      "{'이름': '홍길동', '나이': 20}\n"
     ]
    }
   ],
   "source": [
    "# 딕셔너리 생성\n",
    "dic1 = {}\n",
    "dic2 = {'이름':'홍길동', '나이':20}"
   ]
  },
  {
   "cell_type": "code",
   "execution_count": 116,
   "metadata": {},
   "outputs": [
    {
     "name": "stdout",
     "output_type": "stream",
     "text": [
      "{'이름': '홍길동', '나이': 20}\n",
      "홍길동\n",
      "20\n",
      "key = 이름, value=홍길동\n",
      "key = 나이, value=20\n"
     ]
    }
   ],
   "source": [
    "# 딕셔너리 데이터 출력\n",
    "print(dic2)\n",
    "\n",
    "# 하나의 데이터만 출력\n",
    "print(dic2['이름'])\n",
    "print(dic2.get('나이'))\n",
    "\n",
    "# 반복문 이용하기\n",
    "for key in dic2 :\n",
    "    print(f'key = {key}, value={dic2[key]}')\n",
    "\n"
   ]
  },
  {
   "cell_type": "code",
   "execution_count": 169,
   "metadata": {},
   "outputs": [
    {
     "name": "stdout",
     "output_type": "stream",
     "text": [
      "{'이름': '홍길동'}\n",
      "{'이름': '홍길동', '연락처': '010-1111-2222'}\n",
      "{'이름': '이순신', '연락처': '010-1111-2222'}\n"
     ]
    }
   ],
   "source": [
    "# 딕셔너리에 데이터 추가하기\n",
    "dic3 = {}\n",
    "\n",
    "# key가 이름이고 value는 '홍길동'인 데이터 추가\n",
    "dic3['이름'] = '홍길동'\n",
    "print(dic3)\n",
    "dic3['연락처'] = '010-1111-2222'\n",
    "print(dic3)\n",
    "\n",
    "#dic3 안에 키가 '이름'인 데이터의 값을 '이순신'으로 변경\n",
    "dic3['이름'] = '이순신'\n",
    "print(dic3)\n"
   ]
  },
  {
   "cell_type": "code",
   "execution_count": 171,
   "metadata": {},
   "outputs": [
    {
     "ename": "KeyError",
     "evalue": "'이름'",
     "output_type": "error",
     "traceback": [
      "\u001b[1;31m---------------------------------------------------------------------------\u001b[0m",
      "\u001b[1;31mKeyError\u001b[0m                                  Traceback (most recent call last)",
      "Cell \u001b[1;32mIn[171], line 3\u001b[0m\n\u001b[0;32m      1\u001b[0m \u001b[38;5;66;03m# 데이터 삭제하기\u001b[39;00m\n\u001b[0;32m      2\u001b[0m \u001b[38;5;66;03m# 키가 '이름'인 데이터를 삭제\u001b[39;00m\n\u001b[1;32m----> 3\u001b[0m \u001b[38;5;28;01mdel\u001b[39;00m(\u001b[43mdic3\u001b[49m\u001b[43m[\u001b[49m\u001b[38;5;124;43m'\u001b[39;49m\u001b[38;5;124;43m이름\u001b[39;49m\u001b[38;5;124;43m'\u001b[39;49m\u001b[43m]\u001b[49m)\n\u001b[0;32m      4\u001b[0m \u001b[38;5;28mprint\u001b[39m(dic3)\n\u001b[0;32m      6\u001b[0m \u001b[38;5;66;03m#딕셔너리 안의 모든 데이터 삭제\u001b[39;00m\n\u001b[0;32m      7\u001b[0m \u001b[38;5;66;03m# dic3.clear()\u001b[39;00m\n",
      "\u001b[1;31mKeyError\u001b[0m: '이름'"
     ]
    }
   ],
   "source": [
    "# 데이터 삭제하기\n",
    "# 키가 '이름'인 데이터를 삭제\n",
    "del(dic3['이름'])\n",
    "print(dic3)\n",
    "\n",
    "#딕셔너리 안의 모든 데이터 삭제\n",
    "# dic3.clear()"
   ]
  },
  {
   "cell_type": "code",
   "execution_count": 150,
   "metadata": {},
   "outputs": [
    {
     "name": "stdout",
     "output_type": "stream",
     "text": [
      "['1', '2', '3', '4', '5']\n"
     ]
    }
   ],
   "source": [
    "# 리스트 문제1\n",
    "# 빈 리스트를 생성하고 키보드로 데이터 5개를 입력받아 데이터를 리스트에 추가\n",
    "# 리스트의 모든 내용 출력\n",
    "listQ1 = []\n",
    "# listQ1.append(input())\n",
    "# listQ1.append(input())\n",
    "# listQ1.append(input())\n",
    "# listQ1.append(input())\n",
    "# listQ1.append(input())\n",
    "# print(listQ1)\n",
    "\n",
    "for i in range (0,5) :\n",
    "    value = input(f'{i + 1}번째 값 : ')\n",
    "    listQ1.append(value)\n",
    "print(listQ1)"
   ]
  },
  {
   "cell_type": "code",
   "execution_count": 161,
   "metadata": {},
   "outputs": [
    {
     "name": "stdout",
     "output_type": "stream",
     "text": [
      "삭제결과 : [1, 2, 3, 4]\n"
     ]
    }
   ],
   "source": [
    "#리스트 문제2\n",
    "#아래 제시된 리스트에서 사용자가 입력한 값을 찾아 삭제하는 코드 작성\n",
    "test_list2 = [1,2,3,4,5]\n",
    "\n",
    "searchData = int(input('찾을 데이터 : '))\n",
    "\n",
    "if searchData in test_list2 :\n",
    "    test_list2.remove(searchData)\n",
    "    print(f'삭제결과 : {test_list2}')\n",
    "else :\n",
    "    print('삭제할 데이터 존재하지 않음.')\n"
   ]
  },
  {
   "cell_type": "code",
   "execution_count": 166,
   "metadata": {},
   "outputs": [
    {
     "name": "stdout",
     "output_type": "stream",
     "text": [
      "30\n",
      "10\n",
      "2\n"
     ]
    }
   ],
   "source": [
    "#리스트 문제3\n",
    "# 1~10까지의 수 중 짝수만 리스트에 저장하고 리스트에 저장된 데이터의 합 출력\n",
    "test_list3 = []\n",
    "for i in range(1, 11):\n",
    "    if i % 2 == 0:\n",
    "        test_list3.append(i)\n",
    "print(sum(test_list3))\n",
    "print(max(test_list3))\n",
    "print(min(test_list3))\n"
   ]
  },
  {
   "cell_type": "code",
   "execution_count": 5,
   "metadata": {},
   "outputs": [],
   "source": [
    "list6 = [1,2,3,4,5]"
   ]
  },
  {
   "cell_type": "code",
   "execution_count": 8,
   "metadata": {},
   "outputs": [
    {
     "ename": "NameError",
     "evalue": "name 'dictionary' is not defined",
     "output_type": "error",
     "traceback": [
      "\u001b[1;31m---------------------------------------------------------------------------\u001b[0m",
      "\u001b[1;31mNameError\u001b[0m                                 Traceback (most recent call last)",
      "Cell \u001b[1;32mIn[8], line 20\u001b[0m\n\u001b[0;32m      1\u001b[0m \u001b[38;5;66;03m# #파이썬의 널 표현\u001b[39;00m\n\u001b[0;32m      2\u001b[0m \u001b[38;5;66;03m# name = None\u001b[39;00m\n\u001b[0;32m      3\u001b[0m \u001b[38;5;66;03m# if name is None:\u001b[39;00m\n\u001b[1;32m   (...)\u001b[0m\n\u001b[0;32m     18\u001b[0m \n\u001b[0;32m     19\u001b[0m \u001b[38;5;66;03m#선생님풀이\u001b[39;00m\n\u001b[1;32m---> 20\u001b[0m \u001b[43mdictionary\u001b[49m[\u001b[38;5;124m'\u001b[39m\u001b[38;5;124m이름\u001b[39m\u001b[38;5;124m'\u001b[39m] \u001b[38;5;241m=\u001b[39m \u001b[38;5;28minput\u001b[39m(\u001b[38;5;124m'\u001b[39m\u001b[38;5;124m이름:\u001b[39m\u001b[38;5;124m'\u001b[39m)\n\u001b[0;32m     21\u001b[0m dictionary[\u001b[38;5;124m'\u001b[39m\u001b[38;5;124m나이\u001b[39m\u001b[38;5;124m'\u001b[39m] \u001b[38;5;241m=\u001b[39m \u001b[38;5;28mint\u001b[39m(\u001b[38;5;28minput\u001b[39m(\u001b[38;5;124m'\u001b[39m\u001b[38;5;124m나이:\u001b[39m\u001b[38;5;124m'\u001b[39m))\n\u001b[0;32m     22\u001b[0m dictionary[\u001b[38;5;124m'\u001b[39m\u001b[38;5;124m국어점수\u001b[39m\u001b[38;5;124m'\u001b[39m] \u001b[38;5;241m=\u001b[39m \u001b[38;5;28mint\u001b[39m(\u001b[38;5;28minput\u001b[39m(\u001b[38;5;124m'\u001b[39m\u001b[38;5;124m국어점수:\u001b[39m\u001b[38;5;124m'\u001b[39m))\n",
      "\u001b[1;31mNameError\u001b[0m: name 'dictionary' is not defined"
     ]
    }
   ],
   "source": [
    "# #파이썬의 널 표현\n",
    "# name = None\n",
    "# if name is None:\n",
    "# if name is not None:\n",
    "\n",
    "# 빈 dictionary 객체를 생성한 후 이름, 나이, 국어점수, 영어점수를 key를 추가하고\n",
    "# 각각의 키에 대응하는 values는 키보드로 입력받아 dictionary 객체에 저장하시오. 그리고 출력\n",
    "\n",
    "# dictionary = {}\n",
    "# name = input()\n",
    "# dictionary['이름'] = name\n",
    "# age = input()\n",
    "# dictionary['나이'] = age\n",
    "# korscore = input()\n",
    "# dictionary['국어점수'] = korscore\n",
    "# engscore = input()\n",
    "# dictionary['영어점수'] = engscore\n",
    "\n",
    "#선생님풀이\n",
    "dictionary['이름'] = input('이름:')\n",
    "dictionary['나이'] = int(input('나이:'))\n",
    "dictionary['국어점수'] = int(input('국어점수:'))\n",
    "dictionary['영어점수'] = int(input('영어점수:'))\n",
    "\n",
    "print(dictionary)"
   ]
  },
  {
   "cell_type": "code",
   "execution_count": 2,
   "metadata": {},
   "outputs": [
    {
     "ename": "NameError",
     "evalue": "name 'dictionary' is not defined",
     "output_type": "error",
     "traceback": [
      "\u001b[1;31m---------------------------------------------------------------------------\u001b[0m",
      "\u001b[1;31mNameError\u001b[0m                                 Traceback (most recent call last)",
      "Cell \u001b[1;32mIn[2], line 2\u001b[0m\n\u001b[0;32m      1\u001b[0m \u001b[38;5;66;03m#위에서 만든 딕셔너리 데이터에 '총점' 키를 추가하고 해당 키의 값으로 국어점수와 영어점수의 합을 저장\u001b[39;00m\n\u001b[1;32m----> 2\u001b[0m dictionary[\u001b[38;5;124m'\u001b[39m\u001b[38;5;124m총점\u001b[39m\u001b[38;5;124m'\u001b[39m] \u001b[38;5;241m=\u001b[39m \u001b[43mdictionary\u001b[49m[\u001b[38;5;124m'\u001b[39m\u001b[38;5;124m국어점수\u001b[39m\u001b[38;5;124m'\u001b[39m] \u001b[38;5;241m+\u001b[39m dictionary[\u001b[38;5;124m'\u001b[39m\u001b[38;5;124m영어점수\u001b[39m\u001b[38;5;124m'\u001b[39m]\n\u001b[0;32m      3\u001b[0m \u001b[38;5;28mprint\u001b[39m(dictionary)\n",
      "\u001b[1;31mNameError\u001b[0m: name 'dictionary' is not defined"
     ]
    }
   ],
   "source": [
    "#위에서 만든 딕셔너리 데이터에 '총점' 키를 추가하고 해당 키의 값으로 국어점수와 영어점수의 합을 저장\n",
    "dictionary['총점'] = dictionary['국어점수'] + dictionary['영어점수']\n",
    "print(dictionary)"
   ]
  },
  {
   "cell_type": "code",
   "execution_count": 3,
   "metadata": {},
   "outputs": [
    {
     "name": "stdout",
     "output_type": "stream",
     "text": [
      "95\n"
     ]
    }
   ],
   "source": [
    "class_room_data = {\n",
    "    'stu_no' : [1,2,3,4,5],\n",
    "    'stu_name' : ['김자바', '이자바', '박자바', '최자바', '정자바'],\n",
    "    'stu_score' : [85, 65, 70, 80, 95]\n",
    "}\n",
    "#최고점수 출력\n",
    "print(max(class_room_data['stu_score']))"
   ]
  },
  {
   "cell_type": "code",
   "execution_count": 4,
   "metadata": {},
   "outputs": [
    {
     "name": "stdout",
     "output_type": "stream",
     "text": [
      "{'stu_no': [1, 2, 3, 4, 5], 'stu_name': ['김자바', '이자바', '박자바', '최자바', '정자바'], 'stu_score': [85, 65, 70, 80, 95], 'stu_grade': ['B', 'C', 'C', 'B', 'A']}\n"
     ]
    }
   ],
   "source": [
    "#위의 딕셔너리 데이터에 'stu_grade'라는 키를 추가하고 해당 키에 대한 값은 아래 글을 참고함.\n",
    "# 90 <= 점수 : A\n",
    "# 80 <= 점수 < 90 : B\n",
    "# 점수 < 80 : C\n",
    "class_room_data['stu_grade'] = []\n",
    "\n",
    "for score in class_room_data['stu_score']:\n",
    "    grade = ''\n",
    "    if score >= 90:\n",
    "        grade = 'A'\n",
    "    elif 80 <= score:\n",
    "        grade = 'B'\n",
    "    else:\n",
    "        grade = 'C'\n",
    "        \n",
    "    class_room_data['stu_grade'].append(grade)\n",
    "\n",
    "print(class_room_data)"
   ]
  }
 ],
 "metadata": {
  "kernelspec": {
   "display_name": "Python 3",
   "language": "python",
   "name": "python3"
  },
  "language_info": {
   "codemirror_mode": {
    "name": "ipython",
    "version": 3
   },
   "file_extension": ".py",
   "mimetype": "text/x-python",
   "name": "python",
   "nbconvert_exporter": "python",
   "pygments_lexer": "ipython3",
   "version": "3.12.2"
  }
 },
 "nbformat": 4,
 "nbformat_minor": 2
}
