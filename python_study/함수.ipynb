{
 "cells": [
  {
   "cell_type": "markdown",
   "metadata": {},
   "source": [
    "### 함수"
   ]
  },
  {
   "cell_type": "code",
   "execution_count": 4,
   "metadata": {},
   "outputs": [],
   "source": [
    "# 함수의 기본형태\n",
    "def test1():\n",
    "  print(1)\n"
   ]
  },
  {
   "cell_type": "code",
   "execution_count": 6,
   "metadata": {},
   "outputs": [
    {
     "name": "stdout",
     "output_type": "stream",
     "text": [
      "10\n"
     ]
    }
   ],
   "source": [
    "# 리턴이 있는 함수\n",
    "def getNum():\n",
    "  return 10\n",
    "\n",
    "val = getNum()\n",
    "print(val)\n"
   ]
  },
  {
   "cell_type": "code",
   "execution_count": 10,
   "metadata": {},
   "outputs": [
    {
     "name": "stdout",
     "output_type": "stream",
     "text": [
      "30\n"
     ]
    }
   ],
   "source": [
    "# 매개변수로 전달되는 두 수의 합을 리턴하는 함수 호출\n",
    "def getSum(a, b):\n",
    "  return a + b\n",
    "\n",
    "sum = getSum(10, 20)\n",
    "print(sum)\n"
   ]
  },
  {
   "cell_type": "code",
   "execution_count": 12,
   "metadata": {},
   "outputs": [
    {
     "name": "stdout",
     "output_type": "stream",
     "text": [
      "(10, 20)\n",
      "10\n"
     ]
    }
   ],
   "source": [
    "# 파이썬은 필요하다면 여러 데이터를 return 할 수 있다\n",
    "def test2():\n",
    "  return 10, 20\n",
    "\n",
    "# 결과가 Tuple(튜플) 자료형으로 나옴.\n",
    "# Tuple : list와 동일하나 값을 변경하지 못하는 자료형\n",
    "val1 = test2()\n",
    "print(val1)\n",
    "\n",
    "num1, num2 = test2()\n",
    "print(num1)"
   ]
  },
  {
   "cell_type": "code",
   "execution_count": 24,
   "metadata": {},
   "outputs": [],
   "source": [
    "# 파이썬은 매개변수의 값을 자바와 다르게 지정할 수 있다.\n",
    "def intro(name, age):\n",
    "  print(f'이름은{name}이고, 나이는 {age}입니다.')\n",
    "\n"
   ]
  },
  {
   "cell_type": "code",
   "execution_count": 28,
   "metadata": {},
   "outputs": [
    {
     "name": "stdout",
     "output_type": "stream",
     "text": [
      "이름은홍길동이고, 나이는 20입니다.\n",
      "이름은홍길동이고, 나이는 20입니다.\n",
      "이름은박이고, 나이는 10입니다.\n"
     ]
    }
   ],
   "source": [
    "intro('홍길동', 20)\n",
    "# 매개변수의 이름으로 값을 전달할 수 있음\n",
    "intro(name = '홍길동', age = 20)\n",
    "intro(age = 10, name = '박')\n"
   ]
  },
  {
   "cell_type": "code",
   "execution_count": 35,
   "metadata": {},
   "outputs": [],
   "source": [
    "# 함수 선언 시 매개변수의 기본값(default)을 지정할 수 있음\n",
    "  # ※기본값은 매개변수의 제일 왼쪽으로 작성\n",
    "def mySum(a, b = 10, c = 20):\n",
    "  return a + b + c"
   ]
  },
  {
   "cell_type": "code",
   "execution_count": 33,
   "metadata": {},
   "outputs": [
    {
     "name": "stdout",
     "output_type": "stream",
     "text": [
      "6\n",
      "23\n",
      "8\n"
     ]
    }
   ],
   "source": [
    "print(mySum(1, 2, 3))\n",
    "print(mySum(1, 2))\n",
    "print(mySum(c = 5, b = 1, a = 2))"
   ]
  },
  {
   "cell_type": "code",
   "execution_count": 81,
   "metadata": {},
   "outputs": [],
   "source": [
    "del sum"
   ]
  },
  {
   "cell_type": "code",
   "execution_count": 82,
   "metadata": {},
   "outputs": [
    {
     "data": {
      "text/plain": [
       "21"
      ]
     },
     "execution_count": 82,
     "metadata": {},
     "output_type": "execute_result"
    }
   ],
   "source": [
    "# 1. 매개변수로 두 개의 리스트를 받아, 두 리스트에 저장된 모든 데이터의 합을 리턴하는 함수 선언\n",
    "testlist1 = [1,2,3]\n",
    "testlist2 = [4,5,6]\n",
    "def getSumList(testlist1, testlist2):\n",
    "  return sum(testlist1) + sum(testlist2)\n",
    "\n",
    "totalSum = getSumList(testlist1, testlist2)\n",
    "totalSum"
   ]
  },
  {
   "cell_type": "code",
   "execution_count": 41,
   "metadata": {},
   "outputs": [
    {
     "name": "stdout",
     "output_type": "stream",
     "text": [
      "[5]\n"
     ]
    }
   ],
   "source": [
    "# 2. 매개변수로 두 개의 리스트를 받아, 두 리스트에서 중복된 데이터만을 갖는 새로운 리스트를 리턴하는 함수\n",
    "list_3 = [1,2,3,4,5]\n",
    "list_4 = [5,6,7,8,9]\n",
    "list_5 = []\n",
    "\n",
    "def testList3 (list_3, list_4):\n",
    "  for i in list_3 :\n",
    "    if i in list_4 :\n",
    "      list_5.append(i)\n",
    "  return list_5\n",
    "\n",
    "result = testList3(list_3, list_4)\n",
    "print(result)"
   ]
  },
  {
   "cell_type": "code",
   "execution_count": 97,
   "metadata": {},
   "outputs": [
    {
     "name": "stdout",
     "output_type": "stream",
     "text": [
      "{'name': '김자바', 'age': 20}\n"
     ]
    }
   ],
   "source": [
    "# changeValueOfDic(딕셔너리, 변경할key, 변경할 값) \n",
    "#만약 찾는 키가 없다면 '변경할 키를 찾지 못했습니다'가 출력\n",
    "dic1 = {\n",
    "  'name' : '홍길동'\n",
    "  , 'age' : 20\n",
    "}\n",
    "# def changeValueOfDic(dic1, key, value):\n",
    "#     dic2 = dic.copy()\n",
    "#     if dic1.get(key) == None :\n",
    "#       return '값을 찾지못했습니다.'\n",
    "#     else :\n",
    "#         dic2[key] = value\n",
    "#         return dic2\n",
    "    \n",
    "# 쌤 풀이\n",
    "def changeValueOfDic(dic1, key, value):\n",
    "    if key in dic1:\n",
    "      dic1[key] = value\n",
    "    else :\n",
    "      print('값을 찾지 못함')\n",
    "\n",
    "changeValueOfDic(dic1, 'name', '김자바')\n",
    "print(dic1)\n",
    "\n",
    "\n"
   ]
  },
  {
   "cell_type": "code",
   "execution_count": null,
   "metadata": {},
   "outputs": [],
   "source": []
  },
  {
   "cell_type": "code",
   "execution_count": null,
   "metadata": {},
   "outputs": [],
   "source": []
  },
  {
   "cell_type": "code",
   "execution_count": null,
   "metadata": {},
   "outputs": [],
   "source": []
  },
  {
   "cell_type": "code",
   "execution_count": null,
   "metadata": {},
   "outputs": [],
   "source": []
  }
 ],
 "metadata": {
  "kernelspec": {
   "display_name": "Python 3",
   "language": "python",
   "name": "python3"
  },
  "language_info": {
   "codemirror_mode": {
    "name": "ipython",
    "version": 3
   },
   "file_extension": ".py",
   "mimetype": "text/x-python",
   "name": "python",
   "nbconvert_exporter": "python",
   "pygments_lexer": "ipython3",
   "version": "3.12.2"
  }
 },
 "nbformat": 4,
 "nbformat_minor": 2
}
